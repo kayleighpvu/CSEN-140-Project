{
 "cells": [
  {
   "cell_type": "code",
   "execution_count": 27,
   "id": "1cdee69c-9da8-4d86-9ad0-b34f2287daf8",
   "metadata": {},
   "outputs": [],
   "source": [
    "import pandas as pd\n",
    "import torch\n",
    "import torch.nn as nn\n",
    "import torch.optim as optim\n",
    "from sklearn.feature_selection import chi2, SelectKBest\n",
    "from sklearn.model_selection import train_test_split\n",
    "from sklearn.metrics import accuracy_score, precision_score, recall_score, f1_score\n",
    "\n",
    "celeb_data = pd.read_csv('../list_attr_celeba.csv')\n",
    "\n",
    "# clean the data\n",
    "celeb_data.replace(1, 1.0, inplace=True)\n",
    "celeb_data.replace(-1, 0.0, inplace=True)\n",
    "celeb_data.drop(columns=[\n",
    "    'image_id', '5_o_Clock_Shadow', 'Arched_Eyebrows', 'Bags_Under_Eyes', \n",
    "    'Bushy_Eyebrows', 'Bangs', 'Blurry', 'Smiling', 'Mouth_Slightly_Open', \n",
    "    'Wearing_Earrings', 'Wearing_Hat', 'Wearing_Lipstick', 'Wearing_Necklace', \n",
    "    'Wearing_Necktie'\n",
    "], inplace=True)\n",
    "\n",
    "column_names = celeb_data.drop(\"Attractive\", axis=1).columns\n",
    "X = celeb_data.drop(\"Attractive\", axis=1).values\n",
    "y = celeb_data[\"Attractive\"].values"
   ]
  },
  {
   "cell_type": "code",
   "execution_count": 28,
   "id": "3d520794-1ec8-4496-99b2-6251aec5405a",
   "metadata": {},
   "outputs": [
    {
     "name": "stdout",
     "output_type": "stream",
     "text": [
      "Features: Index(['Big_Nose', 'Chubby', 'Double_Chin', 'Eyeglasses', 'Gray_Hair',\n",
      "       'Heavy_Makeup', 'Male', 'Pointy_Nose', 'Wavy_Hair', 'Young'],\n",
      "      dtype='object')\n"
     ]
    }
   ],
   "source": [
    "# chi-squared: x^2 = summation((observed(i) - expected(i)^2) / expected(i))\n",
    "\n",
    "# feature selection\n",
    "selector = SelectKBest(score_func=chi2, k=10)  # top 10 most relevant features\n",
    "X_new = selector.fit_transform(X, y)\n",
    "\n",
    "# names of distinct features\n",
    "selected_features = column_names[selector.get_support()]\n",
    "print(\"Features:\", selected_features)\n",
    "\n",
    "# training and testing split 70/30\n",
    "X_train, X_test, y_train, y_test = train_test_split(X_new, y, test_size=0.3, random_state=42)\n",
    "\n",
    "# convert the data to pytorch tensors\n",
    "X_train_tensor = torch.tensor(X_train, dtype=torch.float32)\n",
    "y_train_tensor = torch.tensor(y_train, dtype=torch.float32).unsqueeze(1)  # adds an extra dimension for binary classification\n",
    "X_test_tensor = torch.tensor(X_test, dtype=torch.float32)\n",
    "y_test_tensor = torch.tensor(y_test, dtype=torch.float32).unsqueeze(1)\n",
    "\n",
    "# feedforward neural network\n",
    "class NeuralNetwork(nn.Module):\n",
    "    def __init__(self, input_size):\n",
    "        super(NeuralNetwork, self).__init__()\n",
    "        self.fc1 = nn.Linear(input_size, 32) # first layer (32 neurons)\n",
    "        self.relu = nn.ReLU() # ReLU activation\n",
    "        self.fc2 = nn.Linear(32, 16) # second layer (16 neurons)\n",
    "        self.fc3 = nn.Linear(16, 1) # output layer\n",
    "        self.sigmoid = nn.Sigmoid() # sigmoid func. for binary classification\n",
    "    \n",
    "    def forward(self, x):\n",
    "        x = self.relu(self.fc1(x))\n",
    "        x = self.relu(self.fc2(x))\n",
    "        x = self.sigmoid(self.fc3(x))\n",
    "        return x"
   ]
  },
  {
   "cell_type": "code",
   "execution_count": 29,
   "id": "a0d6d58b-99b1-49d3-aadc-5ce8ac448fb6",
   "metadata": {},
   "outputs": [
    {
     "name": "stdout",
     "output_type": "stream",
     "text": [
      "Epoch [10/50], Loss: 0.6877\n",
      "Epoch [20/50], Loss: 0.6752\n",
      "Epoch [30/50], Loss: 0.6610\n",
      "Epoch [40/50], Loss: 0.6437\n",
      "Epoch [50/50], Loss: 0.6224\n"
     ]
    }
   ],
   "source": [
    "# initialize model, loss function, and optimizer\n",
    "input_size = X_train_tensor.shape[1]\n",
    "model = NeuralNetwork(input_size)\n",
    "criterion = nn.BCELoss() # using binary cross entropy loss function\n",
    "optimizer = optim.Adam(model.parameters(), lr=0.001) # using adam optimizer\n",
    "\n",
    "# train model\n",
    "num_epochs = 50\n",
    "for epoch in range(num_epochs):\n",
    "    model.train()\n",
    "    optimizer.zero_grad()\n",
    "    outputs = model(X_train_tensor)\n",
    "    loss = criterion(outputs, y_train_tensor)\n",
    "    loss.backward()\n",
    "    optimizer.step()\n",
    "    if (epoch+1) % 10 == 0:\n",
    "        print(f\"Epoch [{epoch+1}/{num_epochs}], Loss: {loss.item():.4f}\")\n",
    "\n",
    "# evaluate model\n",
    "model.eval()\n",
    "with torch.no_grad():\n",
    "    y_pred_probs = model(X_test_tensor)\n",
    "    y_pred = (y_pred_probs >= 0.5).float() # convert probabilities to binary\n",
    "\n",
    "# need to convert to numpy to do sklearn metrics\n",
    "y_pred_numpy = y_pred.squeeze().numpy()\n",
    "y_test_numpy = y_test_tensor.squeeze().numpy()"
   ]
  },
  {
   "cell_type": "code",
   "execution_count": 30,
   "id": "ca9f32bb-19d5-43a4-835b-f32b77ce4944",
   "metadata": {},
   "outputs": [
    {
     "name": "stdout",
     "output_type": "stream",
     "text": [
      "              Feature    Chi2 Score        P-Value\n",
      "11       Heavy_Makeup  28271.052943   0.000000e+00\n",
      "13               Male  18385.501513   0.000000e+00\n",
      "2            Big_Nose  11904.828502   0.000000e+00\n",
      "6              Chubby  10713.529035   0.000000e+00\n",
      "8          Eyeglasses   9393.708775   0.000000e+00\n",
      "7         Double_Chin   8435.048004   0.000000e+00\n",
      "10          Gray_Hair   7904.040885   0.000000e+00\n",
      "19        Pointy_Nose   7629.404734   0.000000e+00\n",
      "25              Young   6895.274619   0.000000e+00\n",
      "24          Wavy_Hair   6371.880541   0.000000e+00\n",
      "20  Receding_Hairline   5952.041000   0.000000e+00\n",
      "17          Oval_Face   5454.974070   0.000000e+00\n",
      "21        Rosy_Cheeks   5082.716829   0.000000e+00\n",
      "0                Bald   4211.602687   0.000000e+00\n",
      "4          Blond_Hair   4134.993162   0.000000e+00\n",
      "9              Goatee   4081.602611   0.000000e+00\n",
      "14           Mustache   3815.858803   0.000000e+00\n",
      "5          Brown_Hair   2808.678556   0.000000e+00\n",
      "12    High_Cheekbones   2454.344118   0.000000e+00\n",
      "22          Sideburns   1920.246530   0.000000e+00\n",
      "18          Pale_Skin   1435.771191   0.000000e+00\n",
      "16           No_Beard   1306.460428  4.459466e-286\n",
      "15        Narrow_Eyes    978.560253  8.213809e-215\n",
      "1            Big_Lips    601.845532  6.643272e-133\n",
      "23      Straight_Hair    276.875268   3.601993e-62\n",
      "3          Black_Hair      2.641535   1.041029e-01\n"
     ]
    }
   ],
   "source": [
    "# sorted importance\n",
    "chi2_scores, p_values = chi2(X, y)\n",
    "feature_importance = pd.DataFrame({\n",
    "    'Feature': column_names,\n",
    "    'Chi2 Score': chi2_scores,\n",
    "    'P-Value': p_values\n",
    "}).sort_values(by='Chi2 Score', ascending=False)\n",
    "print(feature_importance)"
   ]
  },
  {
   "cell_type": "code",
   "execution_count": 31,
   "id": "da27e639-6487-4f6f-815f-9109242fee58",
   "metadata": {},
   "outputs": [
    {
     "name": "stdout",
     "output_type": "stream",
     "text": [
      "Accuracy: 0.725584\n",
      "Precision: 0.699215\n",
      "Recall: 0.812118\n",
      "F1 Score: 0.751449\n"
     ]
    }
   ],
   "source": [
    "# metrics\n",
    "# accuracy\n",
    "accuracy = accuracy_score(y_test_numpy, y_pred_numpy)\n",
    "print(f\"Accuracy: {accuracy:.6f}\")\n",
    "# precision\n",
    "precision = precision_score(y_test_numpy, y_pred_numpy)\n",
    "print(f\"Precision: {precision:.6f}\")\n",
    "# recall\n",
    "recall = recall_score(y_test_numpy, y_pred_numpy)\n",
    "print(f\"Recall: {recall:.6f}\")\n",
    "# F1 score\n",
    "f1 = f1_score(y_test_numpy, y_pred_numpy)\n",
    "print(f\"F1 Score: {f1:.6f}\")"
   ]
  },
  {
   "cell_type": "code",
   "execution_count": null,
   "id": "38424028-1b46-42b1-b5cf-7203c3e0b668",
   "metadata": {},
   "outputs": [],
   "source": []
  }
 ],
 "metadata": {
  "kernelspec": {
   "display_name": "Python 3 (ipykernel)",
   "language": "python",
   "name": "python3"
  },
  "language_info": {
   "codemirror_mode": {
    "name": "ipython",
    "version": 3
   },
   "file_extension": ".py",
   "mimetype": "text/x-python",
   "name": "python",
   "nbconvert_exporter": "python",
   "pygments_lexer": "ipython3",
   "version": "3.12.2"
  }
 },
 "nbformat": 4,
 "nbformat_minor": 5
}
