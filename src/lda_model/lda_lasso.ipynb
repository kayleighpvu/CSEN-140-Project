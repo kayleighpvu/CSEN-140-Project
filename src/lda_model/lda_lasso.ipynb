{
 "cells": [
  {
   "cell_type": "code",
   "execution_count": 1,
   "metadata": {},
   "outputs": [],
   "source": [
    "# LDA (linear discriminant analysis) Model\n",
    "\n",
    "# 5 Methods:\n",
    "# Chi-Squared\n",
    "# Extra Trees\n",
    "# L1 Regularization - Lasso #\n",
    "# Random Forest\n",
    "# Mutual Info"
   ]
  },
  {
   "cell_type": "code",
   "execution_count": 2,
   "metadata": {},
   "outputs": [],
   "source": [
    "import pandas as pd\n",
    "from sklearn.ensemble import RandomForestClassifier\n",
    "from sklearn.linear_model import LogisticRegression\n",
    "\n",
    "celeb_data = pd.read_csv('../list_attr_celeba.csv')\n",
    "\n",
    "celeb_data.replace(1, 1.0, inplace=True)\n",
    "celeb_data.replace(-1, 0.0, inplace=True)\n",
    "celeb_data.drop(columns = ['image_id', '5_o_Clock_Shadow', 'Arched_Eyebrows', 'Bags_Under_Eyes', 'Bushy_Eyebrows', 'Bangs', 'Blurry', 'Smiling', 'Mouth_Slightly_Open', 'Wearing_Earrings', 'Wearing_Hat', 'Wearing_Lipstick', 'Wearing_Necklace', 'Wearing_Necktie'], inplace=True)\n",
    "\n",
    "celeb_data.head()\n",
    "\n",
    "column_names = celeb_data.drop(\"Attractive\", axis=1).columns\n",
    "X = celeb_data.drop(\"Attractive\", axis=1).values\n",
    "y = celeb_data[\"Attractive\"].values"
   ]
  },
  {
   "cell_type": "code",
   "execution_count": 3,
   "metadata": {},
   "outputs": [
    {
     "name": "stdout",
     "output_type": "stream",
     "text": [
      "\n",
      "Lasso Coefficients (sorted by absolute value):\n",
      "Chubby: -1.8687\n",
      "Young: 1.5701\n",
      "Gray_Hair: -1.4311\n",
      "Heavy_Makeup: 1.4144\n",
      "Bald: -1.2632\n",
      "Eyeglasses: -1.1990\n",
      "Double_Chin: -0.9540\n",
      "Pale_Skin: 0.8839\n",
      "Receding_Hairline: -0.8623\n",
      "Pointy_Nose: 0.5691\n",
      "Oval_Face: 0.5552\n",
      "Straight_Hair: 0.4262\n",
      "Narrow_Eyes: -0.4219\n",
      "Wavy_Hair: 0.3916\n",
      "Sideburns: 0.3800\n",
      "High_Cheekbones: 0.3357\n",
      "Brown_Hair: 0.3279\n",
      "Big_Nose: -0.2772\n",
      "Rosy_Cheeks: 0.2633\n",
      "Mustache: -0.2084\n",
      "Blond_Hair: 0.2078\n",
      "Goatee: -0.1970\n",
      "No_Beard: -0.1931\n",
      "Male: -0.1620\n",
      "Black_Hair: 0.1222\n",
      "Big_Lips: -0.0115\n"
     ]
    }
   ],
   "source": [
    "# training lasso (logistic regression with L1 regularization)\n",
    "lasso = LogisticRegression(penalty='l1', solver='liblinear', random_state=42)\n",
    "lasso.fit(X, y)\n",
    "\n",
    "# lasso coefficients\n",
    "lasso_coefficients = lasso.coef_.flatten()\n",
    "\n",
    "# lasso coefficients\n",
    "sorted_lasso = sorted(\n",
    "    zip(column_names, lasso_coefficients),  # zip feature names with coefficients\n",
    "    key=lambda x: abs(x[1]),  # sort by abs value of coefficients\n",
    "    reverse=True\n",
    ")\n",
    "\n",
    "# sorted coefficients\n",
    "print(\"\\nLasso Coefficients (sorted by absolute value):\")\n",
    "for feature, coefficient in sorted_lasso:\n",
    "    print(f\"{feature}: {coefficient:.4f}\")\n"
   ]
  },
  {
   "cell_type": "code",
   "execution_count": 5,
   "metadata": {},
   "outputs": [
    {
     "name": "stdout",
     "output_type": "stream",
     "text": [
      "Accuracy: 0.757470\n",
      "Precision: 0.774117\n",
      "Recall: 0.741577\n",
      "F1 Score: 0.757497\n"
     ]
    }
   ],
   "source": [
    "from sklearn.model_selection import train_test_split\n",
    "from sklearn.metrics import accuracy_score, precision_score, recall_score, f1_score\n",
    "from sklearn.discriminant_analysis import LinearDiscriminantAnalysis\n",
    "\n",
    "# split dataset using ExtraTrees-selected features\n",
    "X_train, X_test, y_train, y_test = train_test_split(X, y, test_size=0.3, random_state=42)\n",
    "\n",
    "# training the LDA model\n",
    "lda = LinearDiscriminantAnalysis()\n",
    "lda.fit(X_train, y_train)\n",
    "\n",
    "# predicting on test set\n",
    "y_pred_test = lda.predict(X_test)\n",
    "\n",
    "# accuracy\n",
    "accuracy = accuracy_score(y_test, y_pred_test)\n",
    "print(f\"Accuracy: {accuracy:.6f}\")\n",
    "\n",
    "# precision\n",
    "precision = precision_score(y_test, y_pred_test, average='binary')\n",
    "print(f\"Precision: {precision:.6f}\")\n",
    "\n",
    "# recall\n",
    "recall = recall_score(y_test, y_pred_test, average='binary')\n",
    "print(f\"Recall: {recall:.6f}\")\n",
    "\n",
    "# F1 score\n",
    "f1 = f1_score(y_test, y_pred_test, average='binary')\n",
    "print(f\"F1 Score: {f1:.6f}\")"
   ]
  }
 ],
 "metadata": {
  "kernelspec": {
   "display_name": "csen140",
   "language": "python",
   "name": "python3"
  },
  "language_info": {
   "codemirror_mode": {
    "name": "ipython",
    "version": 3
   },
   "file_extension": ".py",
   "mimetype": "text/x-python",
   "name": "python",
   "nbconvert_exporter": "python",
   "pygments_lexer": "ipython3",
   "version": "3.12.6"
  }
 },
 "nbformat": 4,
 "nbformat_minor": 2
}
