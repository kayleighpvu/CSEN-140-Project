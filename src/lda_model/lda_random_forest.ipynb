{
 "cells": [
  {
   "cell_type": "code",
   "execution_count": 9,
   "metadata": {},
   "outputs": [],
   "source": [
    "# LDA (linear discriminant analysis) Model\n",
    "\n",
    "# 5 Methods:\n",
    "# Chi-Squared\n",
    "# Extra Trees \n",
    "# L1 Regularization - Lasso \n",
    "# Random Forest #\n",
    "# Mutual Info"
   ]
  },
  {
   "cell_type": "code",
   "execution_count": 10,
   "metadata": {},
   "outputs": [],
   "source": [
    "import pandas as pd\n",
    "from sklearn.ensemble import RandomForestClassifier\n",
    "from sklearn.linear_model import LogisticRegression\n",
    "\n",
    "celeb_data = pd.read_csv('../list_attr_celeba.csv')\n",
    "\n",
    "celeb_data.replace(1, 1.0, inplace=True)\n",
    "celeb_data.replace(-1, 0.0, inplace=True)\n",
    "celeb_data.drop(columns = ['image_id', '5_o_Clock_Shadow', 'Arched_Eyebrows', 'Bags_Under_Eyes', 'Bushy_Eyebrows', 'Bangs', 'Blurry', 'Smiling', 'Mouth_Slightly_Open', 'Wearing_Earrings', 'Wearing_Hat', 'Wearing_Lipstick', 'Wearing_Necklace', 'Wearing_Necktie'], inplace=True)\n",
    "\n",
    "celeb_data.head()\n",
    "\n",
    "column_names = celeb_data.drop(\"Attractive\", axis=1).columns\n",
    "X = celeb_data.drop(\"Attractive\", axis=1).values\n",
    "y = celeb_data[\"Attractive\"].values"
   ]
  },
  {
   "cell_type": "code",
   "execution_count": 11,
   "metadata": {},
   "outputs": [
    {
     "name": "stdout",
     "output_type": "stream",
     "text": [
      "Random Forest Feature Importances (sorted):\n",
      "Heavy_Makeup: 0.2593\n",
      "Young: 0.1524\n",
      "Male: 0.1108\n",
      "Big_Nose: 0.0500\n",
      "Pointy_Nose: 0.0406\n",
      "Chubby: 0.0381\n",
      "Oval_Face: 0.0359\n",
      "Wavy_Hair: 0.0313\n",
      "Eyeglasses: 0.0312\n",
      "High_Cheekbones: 0.0246\n",
      "Straight_Hair: 0.0226\n",
      "Big_Lips: 0.0220\n",
      "Receding_Hairline: 0.0220\n",
      "Narrow_Eyes: 0.0185\n",
      "Black_Hair: 0.0183\n",
      "Brown_Hair: 0.0177\n",
      "Gray_Hair: 0.0162\n",
      "No_Beard: 0.0152\n",
      "Pale_Skin: 0.0142\n",
      "Double_Chin: 0.0127\n",
      "Blond_Hair: 0.0124\n",
      "Rosy_Cheeks: 0.0086\n",
      "Goatee: 0.0077\n",
      "Sideburns: 0.0076\n",
      "Mustache: 0.0065\n",
      "Bald: 0.0039\n"
     ]
    }
   ],
   "source": [
    "# training Random Forest model\n",
    "rf = RandomForestClassifier(random_state=42)\n",
    "rf.fit(X, y)\n",
    "\n",
    "# feature importances\n",
    "feature_importances = rf.feature_importances_\n",
    "\n",
    "# sort/display Random Forest feature importances\n",
    "sorted_rf = sorted(zip(column_names, feature_importances), key=lambda x: x[1], reverse=True)\n",
    "\n",
    "print(\"Random Forest Feature Importances (sorted):\")\n",
    "for feature, importance in sorted_rf:\n",
    "    print(f\"{feature}: {importance:.4f}\")"
   ]
  },
  {
   "cell_type": "code",
   "execution_count": 12,
   "metadata": {},
   "outputs": [
    {
     "name": "stdout",
     "output_type": "stream",
     "text": [
      "The accuracy of the LDA model with RandomForest-selected features is: 0.757848\n"
     ]
    }
   ],
   "source": [
    "from sklearn.model_selection import train_test_split\n",
    "from sklearn.metrics import accuracy_score\n",
    "from sklearn.discriminant_analysis import LinearDiscriminantAnalysis\n",
    "\n",
    "importances = rf.feature_importances_\n",
    "selected_features = column_names[importances > 0.01]  # features with importance > threshold\n",
    "X_selected = pd.DataFrame(X, columns=column_names)[selected_features].values\n",
    "\n",
    "# splitting dataset using selected features\n",
    "X_train, X_test, y_train, y_test = train_test_split(X_selected, y, test_size=0.3, random_state=42)\n",
    "\n",
    "# training the LDA model\n",
    "lda = LinearDiscriminantAnalysis()\n",
    "lda.fit(X_train, y_train)\n",
    "\n",
    "# predicting on test set\n",
    "y_pred_test = lda.predict(X_test)\n",
    "\n",
    "# accuracy\n",
    "lda_accuracy = accuracy_score(y_test, y_pred_test)\n",
    "\n",
    "print(f\"The accuracy of the LDA model with RandomForest-selected features is: {lda_accuracy:.6f}\")\n"
   ]
  }
 ],
 "metadata": {
  "kernelspec": {
   "display_name": "csen140",
   "language": "python",
   "name": "python3"
  },
  "language_info": {
   "codemirror_mode": {
    "name": "ipython",
    "version": 3
   },
   "file_extension": ".py",
   "mimetype": "text/x-python",
   "name": "python",
   "nbconvert_exporter": "python",
   "pygments_lexer": "ipython3",
   "version": "3.12.6"
  }
 },
 "nbformat": 4,
 "nbformat_minor": 2
}
