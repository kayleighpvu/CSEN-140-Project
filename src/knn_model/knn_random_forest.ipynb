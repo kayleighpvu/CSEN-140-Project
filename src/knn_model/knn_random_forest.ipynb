{
 "cells": [
  {
   "cell_type": "code",
   "execution_count": 3,
   "id": "3907669a-398e-474d-b3a7-2cb61b680ab1",
   "metadata": {},
   "outputs": [
    {
     "name": "stdout",
     "output_type": "stream",
     "text": [
      "Selected Top Features:\n",
      "Heavy_Makeup: importance=0.2523\n",
      "Young: importance=0.1477\n",
      "Male: importance=0.1114\n",
      "Big_Nose: importance=0.0490\n",
      "Pointy_Nose: importance=0.0410\n",
      "Oval_Face: importance=0.0360\n",
      "Chubby: importance=0.0360\n",
      "Wavy_Hair: importance=0.0318\n",
      "Eyeglasses: importance=0.0293\n",
      "High_Cheekbones: importance=0.0261\n",
      "\n",
      "Classification Report:\n",
      "              precision    recall  f1-score   support\n",
      "\n",
      "           0       0.73      0.72      0.72     29734\n",
      "           1       0.73      0.74      0.74     31046\n",
      "\n",
      "    accuracy                           0.73     60780\n",
      "   macro avg       0.73      0.73      0.73     60780\n",
      "weighted avg       0.73      0.73      0.73     60780\n",
      "\n"
     ]
    }
   ],
   "source": [
    "import pandas as pd\n",
    "from sklearn.ensemble import RandomForestClassifier\n",
    "from sklearn.neighbors import KNeighborsClassifier\n",
    "from sklearn.model_selection import train_test_split\n",
    "from sklearn.metrics import accuracy_score, classification_report, precision_score, recall_score, f1_score\n",
    "\n",
    "# Load and preprocess the dataset\n",
    "celeb_data = pd.read_csv('../list_attr_celeba.csv')\n",
    "\n",
    "celeb_data.replace(1, 1.0, inplace=True)\n",
    "celeb_data.replace(-1, 0.0, inplace=True)\n",
    "celeb_data.drop(columns=[\n",
    "    'image_id', '5_o_Clock_Shadow', 'Arched_Eyebrows', 'Bags_Under_Eyes',\n",
    "    'Bushy_Eyebrows', 'Bangs', 'Blurry', 'Smiling', 'Mouth_Slightly_Open',\n",
    "    'Wearing_Earrings', 'Wearing_Hat', 'Wearing_Lipstick', 'Wearing_Necklace',\n",
    "    'Wearing_Necktie'\n",
    "], inplace=True)\n",
    "\n",
    "# Define features (X) and target (y)\n",
    "X = celeb_data.drop(\"Attractive\", axis=1)\n",
    "y = celeb_data[\"Attractive\"]\n",
    "\n",
    "# Split data into training and testing sets\n",
    "X_train, X_test, y_train, y_test = train_test_split(X, y, test_size=0.3, random_state=42)\n",
    "\n",
    "# Train RandomForestClassifier for feature importance\n",
    "rf = RandomForestClassifier(random_state=42)\n",
    "rf.fit(X_train, y_train)\n",
    "\n",
    "# Get feature importances\n",
    "feature_importances = rf.feature_importances_\n",
    "\n",
    "# Sort features by importance and select top N (e.g., top 10)\n",
    "N = 10\n",
    "sorted_rf = sorted(zip(X_train.columns, feature_importances), key=lambda x: x[1], reverse=True)\n",
    "top_features = [feature for feature, importance in sorted_rf[:N]]\n",
    "\n",
    "print(\"Selected Top Features:\")\n",
    "for feature, importance in sorted_rf[:N]:\n",
    "    print(f\"{feature}: importance={importance:.4f}\")\n",
    "\n",
    "# Filter datasets to include only the top features\n",
    "X_train_selected = X_train[top_features]\n",
    "X_test_selected = X_test[top_features]\n",
    "\n",
    "# Train KNN model on selected features\n",
    "knn = KNeighborsClassifier(n_neighbors=5)  # You can adjust the number of neighbors\n",
    "knn.fit(X_train_selected, y_train)\n",
    "\n",
    "# Make predictions\n",
    "y_pred = knn.predict(X_test_selected)\n",
    "\n",
    "print(\"\\nClassification Report:\")\n",
    "print(classification_report(y_test, y_pred))"
   ]
  },
  {
   "cell_type": "code",
   "execution_count": 4,
   "id": "14d403ec-0a7c-491c-a20d-f47ff72b4a21",
   "metadata": {},
   "outputs": [
    {
     "name": "stdout",
     "output_type": "stream",
     "text": [
      "Accuracy: 0.732017\n",
      "Precision: 0.734776\n",
      "Recall: 0.743864\n",
      "F1 Score: 0.739292\n"
     ]
    }
   ],
   "source": [
    "# accuracy\n",
    "accuracy = accuracy_score(y_test, y_pred)\n",
    "print(f\"Accuracy: {accuracy:.6f}\")\n",
    "\n",
    "# precision\n",
    "precision = precision_score(y_test, y_pred)\n",
    "print(f\"Precision: {precision:.6f}\")\n",
    "\n",
    "# recall\n",
    "recall = recall_score(y_test, y_pred)\n",
    "print(f\"Recall: {recall:.6f}\")\n",
    "\n",
    "# F1 score\n",
    "f1 = f1_score(y_test, y_pred)\n",
    "print(f\"F1 Score: {f1:.6f}\")"
   ]
  }
 ],
 "metadata": {
  "kernelspec": {
   "display_name": "Python 3 (ipykernel)",
   "language": "python",
   "name": "python3"
  },
  "language_info": {
   "codemirror_mode": {
    "name": "ipython",
    "version": 3
   },
   "file_extension": ".py",
   "mimetype": "text/x-python",
   "name": "python",
   "nbconvert_exporter": "python",
   "pygments_lexer": "ipython3",
   "version": "3.12.6"
  }
 },
 "nbformat": 4,
 "nbformat_minor": 5
}
