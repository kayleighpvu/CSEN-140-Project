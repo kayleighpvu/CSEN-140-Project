{
 "cells": [
  {
   "cell_type": "code",
   "execution_count": 2,
   "id": "5ebfcb7d-95b0-443b-b9d2-3cae1c7621f5",
   "metadata": {},
   "outputs": [],
   "source": [
    "import numpy as np\n",
    "import pandas as pd\n",
    "import matplotlib.pyplot as plt\n",
    "from sklearn.feature_selection import chi2, SelectKBest\n",
    "from sklearn.feature_selection import SelectKBest\n",
    "from sklearn.neighbors import KNeighborsClassifier\n",
    "from sklearn.model_selection import train_test_split\n",
    "from sklearn.metrics import accuracy_score, precision_score, recall_score, f1_score\n",
    "\n",
    "celeb_data = pd.read_csv('../list_attr_celeba.csv')\n",
    "\n",
    "# clean the data\n",
    "celeb_data.replace(1, 1.0, inplace=True)\n",
    "celeb_data.replace(-1, 0.0, inplace=True)\n",
    "celeb_data.drop(columns = ['image_id', '5_o_Clock_Shadow', 'Arched_Eyebrows', 'Bags_Under_Eyes', 'Bushy_Eyebrows', 'Bangs', 'Blurry', 'Smiling', 'Mouth_Slightly_Open', 'Wearing_Earrings', 'Wearing_Hat', 'Wearing_Lipstick', 'Wearing_Necklace', 'Wearing_Necktie'], inplace=True)\n",
    "\n",
    "column_names = celeb_data.drop(\"Attractive\", axis=1).columns\n",
    "X = celeb_data.drop(\"Attractive\", axis=1).values\n",
    "y = celeb_data[\"Attractive\"].values"
   ]
  },
  {
   "cell_type": "code",
   "execution_count": 7,
   "id": "18ad3d98-cbf8-4086-a011-72633368bef3",
   "metadata": {},
   "outputs": [
    {
     "name": "stdout",
     "output_type": "stream",
     "text": [
      "Features: Index(['Big_Nose', 'Chubby', 'Double_Chin', 'Eyeglasses', 'Gray_Hair',\n",
      "       'Heavy_Makeup', 'Male', 'Pointy_Nose', 'Wavy_Hair', 'Young'],\n",
      "      dtype='object')\n"
     ]
    }
   ],
   "source": [
    "# chi-squared: x^2 = summation((observed(i) - expected(i)^2) / expected(i))\n",
    "\n",
    "# feature selection\n",
    "selector = SelectKBest(score_func=chi2, k=10) # top 10 most relevant features\n",
    "X_new = selector.fit_transform(X, y)\n",
    "\n",
    "# names of distinct features\n",
    "selected_features = column_names[selector.get_support()]\n",
    "print(\"Features:\", selected_features)\n",
    "\n",
    "# training and testing split 70/30\n",
    "X_train, X_test, y_train, y_test = train_test_split(X_new, y, test_size=0.3, random_state=42)\n",
    "\n",
    "# training KNN model\n",
    "knn = KNeighborsClassifier(n_neighbors=5)\n",
    "knn.fit(X_train, y_train)\n",
    "y_pred = knn.predict(X_test)"
   ]
  },
  {
   "cell_type": "code",
   "execution_count": 8,
   "id": "99640960-2ba2-43d7-9a0f-158a4e3814ae",
   "metadata": {},
   "outputs": [
    {
     "name": "stdout",
     "output_type": "stream",
     "text": [
      "              Feature    Chi2 Score        P-Value\n",
      "11       Heavy_Makeup  28271.052943   0.000000e+00\n",
      "13               Male  18385.501513   0.000000e+00\n",
      "2            Big_Nose  11904.828502   0.000000e+00\n",
      "6              Chubby  10713.529035   0.000000e+00\n",
      "8          Eyeglasses   9393.708775   0.000000e+00\n",
      "7         Double_Chin   8435.048004   0.000000e+00\n",
      "10          Gray_Hair   7904.040885   0.000000e+00\n",
      "19        Pointy_Nose   7629.404734   0.000000e+00\n",
      "25              Young   6895.274619   0.000000e+00\n",
      "24          Wavy_Hair   6371.880541   0.000000e+00\n",
      "20  Receding_Hairline   5952.041000   0.000000e+00\n",
      "17          Oval_Face   5454.974070   0.000000e+00\n",
      "21        Rosy_Cheeks   5082.716829   0.000000e+00\n",
      "0                Bald   4211.602687   0.000000e+00\n",
      "4          Blond_Hair   4134.993162   0.000000e+00\n",
      "9              Goatee   4081.602611   0.000000e+00\n",
      "14           Mustache   3815.858803   0.000000e+00\n",
      "5          Brown_Hair   2808.678556   0.000000e+00\n",
      "12    High_Cheekbones   2454.344118   0.000000e+00\n",
      "22          Sideburns   1920.246530   0.000000e+00\n",
      "18          Pale_Skin   1435.771191   0.000000e+00\n",
      "16           No_Beard   1306.460428  4.459466e-286\n",
      "15        Narrow_Eyes    978.560253  8.213809e-215\n",
      "1            Big_Lips    601.845532  6.643272e-133\n",
      "23      Straight_Hair    276.875268   3.601993e-62\n",
      "3          Black_Hair      2.641535   1.041029e-01\n"
     ]
    }
   ],
   "source": [
    "# sorted importance\n",
    "chi2_scores, p_values = chi2(X, y)\n",
    "feature_importance = pd.DataFrame({\n",
    "    'Feature': column_names,\n",
    "    'Chi2 Score': chi2_scores,\n",
    "    'P-Value': p_values\n",
    "}).sort_values(by='Chi2 Score', ascending=False)\n",
    "print(feature_importance)"
   ]
  },
  {
   "cell_type": "code",
   "execution_count": 9,
   "id": "a3f401ad-2dc7-44df-8457-1490341b9baa",
   "metadata": {},
   "outputs": [
    {
     "name": "stdout",
     "output_type": "stream",
     "text": [
      "Accuracy: 0.711797\n",
      "Precision: 0.671292\n",
      "Recall: 0.853894\n",
      "F1 Score: 0.751662\n"
     ]
    }
   ],
   "source": [
    "# metrics\n",
    "# accuracy\n",
    "accuracy = accuracy_score(y_test, y_pred)\n",
    "print(f\"Accuracy: {accuracy:.6f}\")\n",
    "# precision\n",
    "precision = precision_score(y_test, y_pred)\n",
    "print(f\"Precision: {precision:.6f}\")\n",
    "# recall\n",
    "recall = recall_score(y_test, y_pred)\n",
    "print(f\"Recall: {recall:.6f}\")\n",
    "# F1 score\n",
    "f1 = f1_score(y_test, y_pred)\n",
    "print(f\"F1 Score: {f1:.6f}\")"
   ]
  },
  {
   "cell_type": "code",
   "execution_count": null,
   "id": "27e88f35-7482-4f12-b092-00c2834a0667",
   "metadata": {},
   "outputs": [],
   "source": []
  }
 ],
 "metadata": {
  "kernelspec": {
   "display_name": "Python 3 (ipykernel)",
   "language": "python",
   "name": "python3"
  },
  "language_info": {
   "codemirror_mode": {
    "name": "ipython",
    "version": 3
   },
   "file_extension": ".py",
   "mimetype": "text/x-python",
   "name": "python",
   "nbconvert_exporter": "python",
   "pygments_lexer": "ipython3",
   "version": "3.12.2"
  }
 },
 "nbformat": 4,
 "nbformat_minor": 5
}
