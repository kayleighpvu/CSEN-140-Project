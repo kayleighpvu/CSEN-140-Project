{
 "cells": [
  {
   "cell_type": "code",
   "execution_count": 1,
   "id": "27e98609-9b72-49b9-bdb9-5b497e6ab61f",
   "metadata": {},
   "outputs": [
    {
     "name": "stdout",
     "output_type": "stream",
     "text": [
      "Selected features:\n",
      "Index(['Big_Nose', 'Chubby', 'Double_Chin', 'Eyeglasses', 'Heavy_Makeup',\n",
      "       'Male', 'No_Beard', 'Pointy_Nose', 'Wavy_Hair', 'Young'],\n",
      "      dtype='object')\n",
      "\n",
      "Accuracy of KNN model: 0.72\n",
      "\n",
      "Classification Report:\n",
      "              precision    recall  f1-score   support\n",
      "\n",
      "           0       0.73      0.68      0.71     29734\n",
      "           1       0.71      0.76      0.74     31046\n",
      "\n",
      "    accuracy                           0.72     60780\n",
      "   macro avg       0.72      0.72      0.72     60780\n",
      "weighted avg       0.72      0.72      0.72     60780\n",
      "\n"
     ]
    }
   ],
   "source": [
    "import pandas as pd\n",
    "from sklearn.feature_selection import mutual_info_classif, SelectKBest\n",
    "from sklearn.neighbors import KNeighborsClassifier\n",
    "from sklearn.model_selection import train_test_split\n",
    "from sklearn.metrics import accuracy_score, classification_report\n",
    "\n",
    "# Load and preprocess the dataset\n",
    "celeb_data = pd.read_csv('../list_attr_celeba.csv')\n",
    "\n",
    "celeb_data.replace(1, 1.0, inplace=True)\n",
    "celeb_data.replace(-1, 0.0, inplace=True)\n",
    "celeb_data.drop(columns=[\n",
    "    'image_id', '5_o_Clock_Shadow', 'Arched_Eyebrows', 'Bags_Under_Eyes',\n",
    "    'Bushy_Eyebrows', 'Bangs', 'Blurry', 'Smiling', 'Mouth_Slightly_Open',\n",
    "    'Wearing_Earrings', 'Wearing_Hat', 'Wearing_Lipstick', 'Wearing_Necklace',\n",
    "    'Wearing_Necktie'\n",
    "], inplace=True)\n",
    "\n",
    "# Define features (X) and target (y)\n",
    "X = celeb_data.drop(\"Attractive\", axis=1)\n",
    "y = celeb_data[\"Attractive\"]\n",
    "\n",
    "# Split data into training and testing sets\n",
    "X_train, X_test, y_train, y_test = train_test_split(X, y, test_size=0.3, random_state=42)\n",
    "\n",
    "# Apply SelectKBest with Mutual Information to select top 10 features\n",
    "selector = SelectKBest(score_func=mutual_info_classif, k=10)  # Select top 10 features\n",
    "X_train_selected = selector.fit_transform(X_train, y_train)\n",
    "X_test_selected = selector.transform(X_test)\n",
    "\n",
    "# Get selected feature names\n",
    "selected_features = X.columns[selector.get_support()]\n",
    "print(\"Selected features:\")\n",
    "print(selected_features)\n",
    "\n",
    "# Train KNN model on selected features\n",
    "knn = KNeighborsClassifier(n_neighbors=5)  # You can adjust the number of neighbors\n",
    "knn.fit(X_train_selected, y_train)\n",
    "\n",
    "# Make predictions\n",
    "y_pred = knn.predict(X_test_selected)\n",
    "\n",
    "# Evaluate the KNN model\n",
    "accuracy = accuracy_score(y_test, y_pred)\n",
    "print(f\"\\nAccuracy of KNN model: {accuracy:.2f}\")\n",
    "\n",
    "print(\"\\nClassification Report:\")\n",
    "print(classification_report(y_test, y_pred))"
   ]
  },
  {
   "cell_type": "code",
   "execution_count": null,
   "id": "94aed937-2914-4d99-be0e-298e597c3637",
   "metadata": {},
   "outputs": [],
   "source": []
  }
 ],
 "metadata": {
  "kernelspec": {
   "display_name": "Python 3 (ipykernel)",
   "language": "python",
   "name": "python3"
  },
  "language_info": {
   "codemirror_mode": {
    "name": "ipython",
    "version": 3
   },
   "file_extension": ".py",
   "mimetype": "text/x-python",
   "name": "python",
   "nbconvert_exporter": "python",
   "pygments_lexer": "ipython3",
   "version": "3.12.2"
  }
 },
 "nbformat": 4,
 "nbformat_minor": 5
}
