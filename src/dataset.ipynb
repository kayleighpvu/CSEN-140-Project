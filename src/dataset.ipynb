{
 "cells": [
  {
   "cell_type": "code",
   "execution_count": 1,
   "metadata": {},
   "outputs": [
    {
     "name": "stdout",
     "output_type": "stream",
     "text": [
      "     image_id  5_o_Clock_Shadow  Arched_Eyebrows  Attractive  Bags_Under_Eyes  \\\n",
      "0  000001.jpg                -1                1           1               -1   \n",
      "1  000002.jpg                -1               -1          -1                1   \n",
      "2  000003.jpg                -1               -1          -1               -1   \n",
      "3  000004.jpg                -1               -1           1               -1   \n",
      "4  000005.jpg                -1                1           1               -1   \n",
      "\n",
      "   Bald  Bangs  Big_Lips  Big_Nose  Black_Hair  ...  Sideburns  Smiling  \\\n",
      "0    -1     -1        -1        -1          -1  ...         -1        1   \n",
      "1    -1     -1        -1         1          -1  ...         -1        1   \n",
      "2    -1     -1         1        -1          -1  ...         -1       -1   \n",
      "3    -1     -1        -1        -1          -1  ...         -1       -1   \n",
      "4    -1     -1         1        -1          -1  ...         -1       -1   \n",
      "\n",
      "   Straight_Hair  Wavy_Hair  Wearing_Earrings  Wearing_Hat  Wearing_Lipstick  \\\n",
      "0              1         -1                 1           -1                 1   \n",
      "1             -1         -1                -1           -1                -1   \n",
      "2             -1          1                -1           -1                -1   \n",
      "3              1         -1                 1           -1                 1   \n",
      "4             -1         -1                -1           -1                 1   \n",
      "\n",
      "   Wearing_Necklace  Wearing_Necktie  Young  \n",
      "0                -1               -1      1  \n",
      "1                -1               -1      1  \n",
      "2                -1               -1      1  \n",
      "3                 1               -1      1  \n",
      "4                -1               -1      1  \n",
      "\n",
      "[5 rows x 41 columns]\n",
      "     image_id  5_o_Clock_Shadow  Arched_Eyebrows  Attractive  Bags_Under_Eyes  \\\n",
      "0  000001.jpg                 0                1           1                0   \n",
      "1  000002.jpg                 0                0           0                1   \n",
      "2  000003.jpg                 0                0           0                0   \n",
      "3  000004.jpg                 0                0           1                0   \n",
      "4  000005.jpg                 0                1           1                0   \n",
      "\n",
      "   Bald  Bangs  Big_Lips  Big_Nose  Black_Hair  ...  Sideburns  Smiling  \\\n",
      "0     0      0         0         0           0  ...          0        1   \n",
      "1     0      0         0         1           0  ...          0        1   \n",
      "2     0      0         1         0           0  ...          0        0   \n",
      "3     0      0         0         0           0  ...          0        0   \n",
      "4     0      0         1         0           0  ...          0        0   \n",
      "\n",
      "   Straight_Hair  Wavy_Hair  Wearing_Earrings  Wearing_Hat  Wearing_Lipstick  \\\n",
      "0              1          0                 1            0                 1   \n",
      "1              0          0                 0            0                 0   \n",
      "2              0          1                 0            0                 0   \n",
      "3              1          0                 1            0                 1   \n",
      "4              0          0                 0            0                 1   \n",
      "\n",
      "   Wearing_Necklace  Wearing_Necktie  Young  \n",
      "0                 0                0      1  \n",
      "1                 0                0      1  \n",
      "2                 0                0      1  \n",
      "3                 1                0      1  \n",
      "4                 0                0      1  \n",
      "\n",
      "[5 rows x 41 columns]\n"
     ]
    }
   ],
   "source": [
    "import pandas as pd\n",
    "\n",
    "#import csv file\n",
    "attr_file = 'list_attr_celeba.csv'\n",
    "celeb_data = pd.read_csv(attr_file)\n",
    "\n",
    "print(celeb_data.head())\n",
    "\n",
    "celeb_data.replace(-1, 0, inplace=True)\n",
    "\n",
    "print(celeb_data.head())"
   ]
  }
 ],
 "metadata": {
  "kernelspec": {
   "display_name": "Python 3",
   "language": "python",
   "name": "python3"
  },
  "language_info": {
   "codemirror_mode": {
    "name": "ipython",
    "version": 3
   },
   "file_extension": ".py",
   "mimetype": "text/x-python",
   "name": "python",
   "nbconvert_exporter": "python",
   "pygments_lexer": "ipython3",
   "version": "3.12.6"
  }
 },
 "nbformat": 4,
 "nbformat_minor": 2
}
