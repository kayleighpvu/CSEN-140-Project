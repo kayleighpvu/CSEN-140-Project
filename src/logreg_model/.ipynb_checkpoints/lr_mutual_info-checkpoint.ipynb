{
 "cells": [
  {
   "cell_type": "code",
   "execution_count": 1,
   "metadata": {},
   "outputs": [],
   "source": [
    "# Logistic Regression Model\n",
    "\n",
    "# 5 Methods:\n",
    "# Chi-Squared\n",
    "# Extra Trees\n",
    "# L1 Regularization - Lasso\n",
    "# Random Forest \n",
    "# Mutual Info #"
   ]
  },
  {
   "cell_type": "code",
   "execution_count": 2,
   "metadata": {},
   "outputs": [],
   "source": [
    "import pandas as pd\n",
    "from sklearn.feature_selection import mutual_info_classif\n",
    "\n",
    "celeb_data = pd.read_csv('../list_attr_celeba.csv')\n",
    "\n",
    "celeb_data.replace(1, 1.0, inplace=True)\n",
    "celeb_data.replace(-1, 0.0, inplace=True)\n",
    "celeb_data.drop(columns = ['image_id', '5_o_Clock_Shadow', 'Arched_Eyebrows', 'Bags_Under_Eyes', 'Bushy_Eyebrows', 'Bangs', 'Blurry', 'Smiling', 'Mouth_Slightly_Open', 'Wearing_Earrings', 'Wearing_Hat', 'Wearing_Lipstick', 'Wearing_Necklace', 'Wearing_Necktie'], inplace=True)\n",
    "\n",
    "celeb_data.head()\n",
    "\n",
    "column_names = celeb_data.drop(\"Attractive\", axis=1).columns\n",
    "X = celeb_data.drop(\"Attractive\", axis=1).values\n",
    "y = celeb_data[\"Attractive\"].values"
   ]
  },
  {
   "cell_type": "code",
   "execution_count": 3,
   "metadata": {},
   "outputs": [
    {
     "name": "stdout",
     "output_type": "stream",
     "text": [
      "\n",
      "Mutual Information Scores (sorted by score):\n",
      "Heavy_Makeup: 0.14\n",
      "Young: 0.10\n",
      "Male: 0.09\n",
      "Big_Nose: 0.04\n",
      "No_Beard: 0.04\n",
      "Chubby: 0.03\n",
      "Pointy_Nose: 0.03\n",
      "Wavy_Hair: 0.03\n",
      "Eyeglasses: 0.03\n",
      "Gray_Hair: 0.03\n",
      "Oval_Face: 0.03\n",
      "Double_Chin: 0.03\n",
      "High_Cheekbones: 0.02\n",
      "Rosy_Cheeks: 0.01\n",
      "Receding_Hairline: 0.01\n",
      "Blond_Hair: 0.01\n",
      "Goatee: 0.01\n",
      "Brown_Hair: 0.01\n",
      "Bald: 0.01\n",
      "Mustache: 0.01\n",
      "Sideburns: 0.01\n",
      "Big_Lips: 0.01\n",
      "Narrow_Eyes: 0.01\n",
      "Black_Hair: 0.00\n",
      "Straight_Hair: 0.00\n",
      "Pale_Skin: 0.00\n"
     ]
    }
   ],
   "source": [
    "mi_scores = mutual_info_classif(X, y)\n",
    "\n",
    "# Sorting and printing Mutual Information scores based on scores\n",
    "mi_results = sorted(\n",
    "    zip(column_names, mi_scores),\n",
    "    key=lambda x: x[1],  # Sort by score\n",
    "    reverse=True  # Higher scores first\n",
    ")\n",
    "\n",
    "print(\"\\nMutual Information Scores (sorted by score):\")\n",
    "for feature, score in mi_results:\n",
    "    print(f\"{feature}: {score:.2f}\")"
   ]
  },
  {
   "cell_type": "code",
   "execution_count": 4,
   "metadata": {},
   "outputs": [
    {
     "name": "stdout",
     "output_type": "stream",
     "text": [
      "Accuracy: 0.753208\n",
      "Precision: 0.760639\n",
      "Recall: 0.754171\n",
      "F1 Score: 0.757391\n"
     ]
    }
   ],
   "source": [
    "from sklearn.model_selection import train_test_split\n",
    "from sklearn.metrics import accuracy_score, precision_score, recall_score, f1_score\n",
    "from sklearn.linear_model import LogisticRegression\n",
    "\n",
    "selected_features = [feature for feature, score in mi_results if score > 0.01]\n",
    "X_selected = pd.DataFrame(X, columns=column_names)[selected_features].values\n",
    "\n",
    "# Splitting dataset using Mutual Information-selected features\n",
    "X_train, X_test, y_train, y_test = train_test_split(X_selected, y, test_size=0.3, random_state=42)\n",
    "\n",
    "# Training logistic regression model\n",
    "log_reg = LogisticRegression(random_state=42, max_iter=1000)\n",
    "log_reg.fit(X_train, y_train)\n",
    "\n",
    "# Predicting on test set\n",
    "y_pred_test = log_reg.predict(X_test)\n",
    "\n",
    "# Accuracy\n",
    "accuracy = accuracy_score(y_test, y_pred_test)\n",
    "print(f\"Accuracy: {accuracy:.6f}\")\n",
    "\n",
    "# precision\n",
    "precision = precision_score(y_test, y_pred_test, average='binary')\n",
    "print(f\"Precision: {precision:.6f}\")\n",
    "\n",
    "# recall\n",
    "recall = recall_score(y_test, y_pred_test, average='binary')\n",
    "print(f\"Recall: {recall:.6f}\")\n",
    "\n",
    "# F1 score\n",
    "f1 = f1_score(y_test, y_pred_test, average='binary')\n",
    "print(f\"F1 Score: {f1:.6f}\")"
   ]
  }
 ],
 "metadata": {
  "kernelspec": {
   "display_name": "Python 3 (ipykernel)",
   "language": "python",
   "name": "python3"
  },
  "language_info": {
   "codemirror_mode": {
    "name": "ipython",
    "version": 3
   },
   "file_extension": ".py",
   "mimetype": "text/x-python",
   "name": "python",
   "nbconvert_exporter": "python",
   "pygments_lexer": "ipython3",
   "version": "3.12.2"
  }
 },
 "nbformat": 4,
 "nbformat_minor": 4
}
