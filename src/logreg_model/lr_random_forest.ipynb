{
 "cells": [
  {
   "cell_type": "code",
   "execution_count": 1,
   "metadata": {},
   "outputs": [],
   "source": [
    "# Logistic Regression Model\n",
    "\n",
    "# 5 Methods:\n",
    "# Chi-Squared\n",
    "# Extra Trees\n",
    "# L1 Regularization - Lasso\n",
    "# Random Forest # \n",
    "# Mutual Info"
   ]
  },
  {
   "cell_type": "code",
   "execution_count": 2,
   "metadata": {},
   "outputs": [],
   "source": [
    "import pandas as pd\n",
    "from sklearn.ensemble import RandomForestClassifier\n",
    "from sklearn.linear_model import LogisticRegression\n",
    "\n",
    "celeb_data = pd.read_csv('../list_attr_celeba.csv')\n",
    "\n",
    "celeb_data.replace(1, 1.0, inplace=True)\n",
    "celeb_data.replace(-1, 0.0, inplace=True)\n",
    "celeb_data.drop(columns = ['image_id', '5_o_Clock_Shadow', 'Arched_Eyebrows', 'Bags_Under_Eyes', 'Bushy_Eyebrows', 'Bangs', 'Blurry', 'Smiling', 'Mouth_Slightly_Open', 'Wearing_Earrings', 'Wearing_Hat', 'Wearing_Lipstick', 'Wearing_Necklace', 'Wearing_Necktie'], inplace=True)\n",
    "\n",
    "celeb_data.head()\n",
    "\n",
    "column_names = celeb_data.drop(\"Attractive\", axis=1).columns\n",
    "X = celeb_data.drop(\"Attractive\", axis=1).values\n",
    "y = celeb_data[\"Attractive\"].values"
   ]
  },
  {
   "cell_type": "code",
   "execution_count": 3,
   "metadata": {},
   "outputs": [
    {
     "name": "stdout",
     "output_type": "stream",
     "text": [
      "\n",
      "Logistic Regression (Lasso) Coefficients (sorted by absolute value):\n",
      "Chubby: -1.8687\n",
      "Young: 1.5701\n",
      "Gray_Hair: -1.4311\n",
      "Heavy_Makeup: 1.4144\n",
      "Bald: -1.2632\n",
      "Eyeglasses: -1.1990\n",
      "Double_Chin: -0.9540\n",
      "Pale_Skin: 0.8839\n",
      "Receding_Hairline: -0.8623\n",
      "Pointy_Nose: 0.5691\n",
      "Oval_Face: 0.5552\n",
      "Straight_Hair: 0.4262\n",
      "Narrow_Eyes: -0.4219\n",
      "Wavy_Hair: 0.3916\n",
      "Sideburns: 0.3800\n",
      "High_Cheekbones: 0.3357\n",
      "Brown_Hair: 0.3279\n",
      "Big_Nose: -0.2772\n",
      "Rosy_Cheeks: 0.2633\n",
      "Mustache: -0.2084\n",
      "Blond_Hair: 0.2078\n",
      "Goatee: -0.1970\n",
      "No_Beard: -0.1931\n",
      "Male: -0.1620\n",
      "Black_Hair: 0.1222\n",
      "Big_Lips: -0.0115\n"
     ]
    }
   ],
   "source": [
    "# training logistic regression (lasso) model\n",
    "lasso = LogisticRegression(penalty='l1', solver='liblinear', random_state=42)\n",
    "lasso.fit(X, y)\n",
    "\n",
    "# lasso coefficients\n",
    "lasso_coefficients = lasso.coef_.flatten()\n",
    "sorted_lasso = sorted(zip(column_names, lasso_coefficients), key=lambda x: abs(x[1]), reverse=True)\n",
    "\n",
    "print(\"\\nLogistic Regression (Lasso) Coefficients (sorted by absolute value):\")\n",
    "for feature, coefficient in sorted_lasso:\n",
    "    print(f\"{feature}: {coefficient:.4f}\")"
   ]
  },
  {
   "cell_type": "code",
   "execution_count": 4,
   "metadata": {},
   "outputs": [
    {
     "name": "stdout",
     "output_type": "stream",
     "text": [
      "\n",
      "Random Forest Feature Importances (sorted):\n",
      "Heavy_Makeup: 0.2593\n",
      "Young: 0.1524\n",
      "Male: 0.1108\n",
      "Big_Nose: 0.0500\n",
      "Pointy_Nose: 0.0406\n",
      "Chubby: 0.0381\n",
      "Oval_Face: 0.0359\n",
      "Wavy_Hair: 0.0313\n",
      "Eyeglasses: 0.0312\n",
      "High_Cheekbones: 0.0246\n",
      "Straight_Hair: 0.0226\n",
      "Big_Lips: 0.0220\n",
      "Receding_Hairline: 0.0220\n",
      "Narrow_Eyes: 0.0185\n",
      "Black_Hair: 0.0183\n",
      "Brown_Hair: 0.0177\n",
      "Gray_Hair: 0.0162\n",
      "No_Beard: 0.0152\n",
      "Pale_Skin: 0.0142\n",
      "Double_Chin: 0.0127\n",
      "Blond_Hair: 0.0124\n",
      "Rosy_Cheeks: 0.0086\n",
      "Goatee: 0.0077\n",
      "Sideburns: 0.0076\n",
      "Mustache: 0.0065\n",
      "Bald: 0.0039\n",
      "\n",
      "Combined Selected Features (Lasso and Random Forest):\n",
      "['Chubby', 'Oval_Face', 'Brown_Hair', 'Young', 'Straight_Hair', 'Black_Hair', 'Receding_Hairline', 'Blond_Hair', 'Gray_Hair', 'Heavy_Makeup', 'No_Beard', 'Narrow_Eyes', 'Male', 'High_Cheekbones', 'Eyeglasses', 'Double_Chin', 'Pale_Skin', 'Wavy_Hair', 'Big_Lips', 'Big_Nose', 'Pointy_Nose']\n",
      "\n",
      "The accuracy of the Random Forest model with Lasso and RandomForest-selected features is: 0.761599\n"
     ]
    }
   ],
   "source": [
    "from sklearn.model_selection import train_test_split\n",
    "from sklearn.metrics import accuracy_score\n",
    "\n",
    "# training Random Forest model\n",
    "rf = RandomForestClassifier(random_state=42)\n",
    "rf.fit(X, y)\n",
    "\n",
    "# feauture importances\n",
    "feature_importances = rf.feature_importances_\n",
    "\n",
    "# sort/display Random Forest feature importances\n",
    "sorted_rf = sorted(zip(column_names, feature_importances), key=lambda x: x[1], reverse=True)\n",
    "\n",
    "print(\"\\nRandom Forest Feature Importances (sorted):\")\n",
    "for feature, importance in sorted_rf:\n",
    "    print(f\"{feature}: {importance:.4f}\")\n",
    "\n",
    "# choose features based on both Lasso and Random Forest\n",
    "lasso_selected_features = [column_names[i] for i in range(len(lasso_coefficients)) if lasso_coefficients[i] != 0]\n",
    "rf_selected_features = [column_names[i] for i, imp in enumerate(feature_importances) if imp > 0.01]\n",
    "combined_selected_features = list(set(lasso_selected_features).intersection(rf_selected_features))\n",
    "\n",
    "print(\"\\nCombined Selected Features (Lasso and Random Forest):\")\n",
    "print(combined_selected_features)\n",
    "\n",
    "# filtering to include only selected features\n",
    "X_selected = pd.DataFrame(X, columns=column_names)[combined_selected_features].values\n",
    "\n",
    "# splitting dataset using selected features\n",
    "X_train, X_test, y_train, y_test = train_test_split(X_selected, y, test_size=0.3, random_state=42)\n",
    "\n",
    "# training Random Forest on selected features\n",
    "rf_selected = RandomForestClassifier(random_state=42)\n",
    "rf_selected.fit(X_train, y_train)\n",
    "\n",
    "# predidt on test set\n",
    "y_pred_test = rf_selected.predict(X_test)\n",
    "\n",
    "# accuracy\n",
    "rf_accuracy = accuracy_score(y_test, y_pred_test)\n",
    "print(f\"\\nThe accuracy of the Random Forest model with Lasso and Random Forest selected features is: {rf_accuracy:.6f}\")\n"
   ]
  }
 ],
 "metadata": {
  "kernelspec": {
   "display_name": "csen140",
   "language": "python",
   "name": "python3"
  },
  "language_info": {
   "codemirror_mode": {
    "name": "ipython",
    "version": 3
   },
   "file_extension": ".py",
   "mimetype": "text/x-python",
   "name": "python",
   "nbconvert_exporter": "python",
   "pygments_lexer": "ipython3",
   "version": "3.12.6"
  }
 },
 "nbformat": 4,
 "nbformat_minor": 2
}
