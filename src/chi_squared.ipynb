{
 "cells": [
  {
   "cell_type": "code",
   "execution_count": 1,
   "metadata": {},
   "outputs": [],
   "source": [
    "import pandas as pd\n",
    "from sklearn.feature_selection import chi2\n",
    "from sklearn.feature_selection import SelectKBest\n",
    "\n",
    "celeb_data = pd.read_csv('list_attr_celeba.csv')\n",
    "\n",
    "celeb_data.replace(1, 1.0, inplace=True)\n",
    "celeb_data.replace(-1, 0.0, inplace=True)\n",
    "celeb_data.drop(columns = ['image_id', '5_o_Clock_Shadow', 'Arched_Eyebrows', 'Bags_Under_Eyes', 'Bushy_Eyebrows', 'Bangs', 'Blurry', 'Smiling', 'Mouth_Slightly_Open', 'Wearing_Earrings', 'Wearing_Hat', 'Wearing_Lipstick', 'Wearing_Necklace', 'Wearing_Necktie'], inplace=True)\n",
    "\n",
    "celeb_data.head()\n",
    "\n",
    "column_names = celeb_data.drop(\"Attractive\", axis=1).columns\n",
    "X = celeb_data.drop(\"Attractive\", axis=1).values\n",
    "y = celeb_data[\"Attractive\"].values"
   ]
  },
  {
   "cell_type": "code",
   "execution_count": 2,
   "metadata": {},
   "outputs": [
    {
     "ename": "NameError",
     "evalue": "name 'chi2_scores' is not defined",
     "output_type": "error",
     "traceback": [
      "\u001b[0;31m---------------------------------------------------------------------------\u001b[0m",
      "\u001b[0;31mNameError\u001b[0m                                 Traceback (most recent call last)",
      "Cell \u001b[0;32mIn[2], line 3\u001b[0m\n\u001b[1;32m      1\u001b[0m \u001b[38;5;66;03m# Sorting and printing Chi-Square scores based on score\u001b[39;00m\n\u001b[1;32m      2\u001b[0m chi2_results \u001b[38;5;241m=\u001b[39m \u001b[38;5;28msorted\u001b[39m(\n\u001b[0;32m----> 3\u001b[0m     \u001b[38;5;28mzip\u001b[39m(column_names, \u001b[43mchi2_scores\u001b[49m\u001b[38;5;241m.\u001b[39mscores_, chi2_scores\u001b[38;5;241m.\u001b[39mpvalues_),\n\u001b[1;32m      4\u001b[0m     key\u001b[38;5;241m=\u001b[39m\u001b[38;5;28;01mlambda\u001b[39;00m x: x[\u001b[38;5;241m1\u001b[39m],  \u001b[38;5;66;03m# Sort by score (x[1])\u001b[39;00m\n\u001b[1;32m      5\u001b[0m     reverse\u001b[38;5;241m=\u001b[39m\u001b[38;5;28;01mTrue\u001b[39;00m         \u001b[38;5;66;03m# Sort in descending order\u001b[39;00m\n\u001b[1;32m      6\u001b[0m )\n\u001b[1;32m      8\u001b[0m \u001b[38;5;28mprint\u001b[39m(\u001b[38;5;124m\"\u001b[39m\u001b[38;5;124mChi-Square Scores (sorted by score):\u001b[39m\u001b[38;5;124m\"\u001b[39m)\n\u001b[1;32m      9\u001b[0m \u001b[38;5;28;01mfor\u001b[39;00m feature, score, pvalue \u001b[38;5;129;01min\u001b[39;00m chi2_results:\n",
      "\u001b[0;31mNameError\u001b[0m: name 'chi2_scores' is not defined"
     ]
    }
   ],
   "source": [
    "# Sorting and printing Chi-Square scores based on score\n",
    "chi2_results = sorted(\n",
    "    zip(column_names, chi2_scores.scores_, chi2_scores.pvalues_),\n",
    "    key=lambda x: x[1],  # Sort by score (x[1])\n",
    "    reverse=True         # Sort in descending order\n",
    ")\n",
    "\n",
    "print(\"Chi-Square Scores (sorted by score):\")\n",
    "for feature, score, pvalue in chi2_results:\n",
    "    print(f\"{feature}: score={score:.2f}, p-value={pvalue:.4f}\")"
   ]
  }
 ],
 "metadata": {
  "kernelspec": {
   "display_name": "csen140",
   "language": "python",
   "name": "python3"
  },
  "language_info": {
   "codemirror_mode": {
    "name": "ipython",
    "version": 3
   },
   "file_extension": ".py",
   "mimetype": "text/x-python",
   "name": "python",
   "nbconvert_exporter": "python",
   "pygments_lexer": "ipython3",
   "version": "3.12.6"
  }
 },
 "nbformat": 4,
 "nbformat_minor": 2
}
