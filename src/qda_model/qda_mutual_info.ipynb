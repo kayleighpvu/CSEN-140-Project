{
 "cells": [
  {
   "cell_type": "code",
   "execution_count": 3,
   "metadata": {
    "vscode": {
     "languageId": "plaintext"
    }
   },
   "outputs": [
    {
     "name": "stdout",
     "output_type": "stream",
     "text": [
      "Accuracy of QDA model: 0.70\n",
      "\n",
      "Classification Report:\n",
      "              precision    recall  f1-score   support\n",
      "\n",
      "           0       0.90      0.44      0.59     29734\n",
      "           1       0.64      0.95      0.76     31046\n",
      "\n",
      "    accuracy                           0.70     60780\n",
      "   macro avg       0.77      0.69      0.68     60780\n",
      "weighted avg       0.77      0.70      0.68     60780\n",
      "\n"
     ]
    }
   ],
   "source": [
    "import pandas as pd\n",
    "from sklearn.feature_selection import mutual_info_classif, SelectKBest\n",
    "from sklearn.discriminant_analysis import QuadraticDiscriminantAnalysis\n",
    "from sklearn.model_selection import train_test_split\n",
    "from sklearn.metrics import accuracy_score, classification_report\n",
    "\n",
    "# Load and preprocess the dataset\n",
    "celeb_data = pd.read_csv('../list_attr_celeba.csv')\n",
    "\n",
    "celeb_data.replace(1, 1.0, inplace=True)\n",
    "celeb_data.replace(-1, 0.0, inplace=True)\n",
    "celeb_data.drop(columns=['image_id', '5_o_Clock_Shadow', 'Arched_Eyebrows', 'Bags_Under_Eyes',\n",
    "                         'Bushy_Eyebrows', 'Bangs', 'Blurry', 'Smiling', 'Mouth_Slightly_Open',\n",
    "                         'Wearing_Earrings', 'Wearing_Hat', 'Wearing_Lipstick', 'Wearing_Necklace',\n",
    "                         'Wearing_Necktie'], inplace=True)\n",
    "\n",
    "# Separate features and target\n",
    "X = celeb_data.drop(\"Attractive\", axis=1).values\n",
    "y = celeb_data[\"Attractive\"].values\n",
    "\n",
    "# Split data into training and testing sets\n",
    "X_train, X_test, y_train, y_test = train_test_split(X, y, test_size=0.3, random_state=42)\n",
    "\n",
    "# Apply SelectKBest with Mutual Information to select top 10 features\n",
    "selector = SelectKBest(score_func=mutual_info_classif, k=10)\n",
    "X_train_selected = selector.fit_transform(X_train, y_train)\n",
    "X_test_selected = selector.transform(X_test)\n",
    "\n",
    "# Train the QDA model\n",
    "qda = QuadraticDiscriminantAnalysis()\n",
    "qda.fit(X_train_selected, y_train)\n",
    "\n",
    "# Make predictions\n",
    "y_pred = qda.predict(X_test_selected)\n",
    "\n",
    "# Evaluate the QDA model\n",
    "accuracy = accuracy_score(y_test, y_pred)\n",
    "print(f\"Accuracy of QDA model: {accuracy:.2f}\")\n",
    "\n",
    "print(\"\\nClassification Report:\")\n",
    "print(classification_report(y_test, y_pred))"
   ]
  },
  {
   "cell_type": "code",
   "execution_count": null,
   "metadata": {},
   "outputs": [],
   "source": []
  }
 ],
 "metadata": {
  "kernelspec": {
   "display_name": "Python 3 (ipykernel)",
   "language": "python",
   "name": "python3"
  },
  "language_info": {
   "codemirror_mode": {
    "name": "ipython",
    "version": 3
   },
   "file_extension": ".py",
   "mimetype": "text/x-python",
   "name": "python",
   "nbconvert_exporter": "python",
   "pygments_lexer": "ipython3",
   "version": "3.12.2"
  }
 },
 "nbformat": 4,
 "nbformat_minor": 4
}
