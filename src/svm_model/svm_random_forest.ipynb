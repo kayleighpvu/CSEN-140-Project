{
 "cells": [
  {
   "cell_type": "code",
   "execution_count": 1,
   "metadata": {},
   "outputs": [],
   "source": [
    "# SVM (Support Vector Machine) Model\n",
    "\n",
    "# 5 Methods:\n",
    "# Chi-Squared \n",
    "# Extra Trees\n",
    "# L1 Regularization - Lasso\n",
    "# Random Forest # \n",
    "# Mutual Info "
   ]
  },
  {
   "cell_type": "code",
   "execution_count": 2,
   "metadata": {},
   "outputs": [],
   "source": [
    "import pandas as pd\n",
    "from sklearn.ensemble import RandomForestClassifier\n",
    "from sklearn.svm import SVC\n",
    "from sklearn.model_selection import train_test_split\n",
    "from sklearn.metrics import accuracy_score, classification_report, precision_score, recall_score, f1_score\n",
    "\n",
    "celeb_data = pd.read_csv('../list_attr_celeba.csv')\n",
    "\n",
    "celeb_data.replace(1, 1.0, inplace=True)\n",
    "celeb_data.replace(-1, 0.0, inplace=True)\n",
    "celeb_data.drop(columns = ['image_id', '5_o_Clock_Shadow', 'Arched_Eyebrows', 'Bags_Under_Eyes', 'Bushy_Eyebrows', 'Bangs', 'Blurry', 'Smiling', 'Mouth_Slightly_Open', 'Wearing_Earrings', 'Wearing_Hat', 'Wearing_Lipstick', 'Wearing_Necklace', 'Wearing_Necktie'], inplace=True)\n",
    "\n",
    "celeb_data.head()\n",
    "\n",
    "column_names = celeb_data.drop(\"Attractive\", axis=1).columns\n",
    "X = celeb_data.drop(\"Attractive\", axis=1).values\n",
    "y = celeb_data[\"Attractive\"].values"
   ]
  },
  {
   "cell_type": "code",
   "execution_count": 3,
   "metadata": {},
   "outputs": [
    {
     "name": "stdout",
     "output_type": "stream",
     "text": [
      "selected features: Index(['Heavy_Makeup', 'Young', 'Male', 'Big_Nose', 'Pointy_Nose', 'Chubby',\n",
      "       'Oval_Face', 'Wavy_Hair', 'Eyeglasses', 'High_Cheekbones'],\n",
      "      dtype='object')\n",
      "\n",
      "classification report:\n",
      "              precision    recall  f1-score   support\n",
      "\n",
      "           0       0.68      0.86      0.76     29734\n",
      "           1       0.82      0.61      0.70     31046\n",
      "\n",
      "    accuracy                           0.73     60780\n",
      "   macro avg       0.75      0.73      0.73     60780\n",
      "weighted avg       0.75      0.73      0.73     60780\n",
      "\n"
     ]
    }
   ],
   "source": [
    "# random forest feature selection\n",
    "rf = RandomForestClassifier(random_state=42)\n",
    "rf.fit(X, y)\n",
    "\n",
    "# extracting feature importances\n",
    "feature_importances = rf.feature_importances_\n",
    "\n",
    "# selecting top 10 most important features\n",
    "selected_indices = feature_importances.argsort()[-10:][::-1]\n",
    "selected_features = column_names[selected_indices]\n",
    "X_new = pd.DataFrame(X, columns=column_names)[selected_features]\n",
    "\n",
    "print(\"selected features:\", selected_features)\n",
    "\n",
    "# training-testing split (70/30)\n",
    "X_train, X_test, y_train, y_test = train_test_split(X_new, y, test_size=0.3, random_state=42)\n",
    "\n",
    "# training svm model\n",
    "svm = SVC(random_state=42, kernel='linear')\n",
    "svm.fit(X_train, y_train)\n",
    "\n",
    "# predicting on test set\n",
    "y_pred = svm.predict(X_test)\n",
    "\n",
    "# classification report\n",
    "print(\"\\nclassification report:\")\n",
    "print(classification_report(y_test, y_pred))"
   ]
  },
  {
   "cell_type": "code",
   "execution_count": 4,
   "metadata": {},
   "outputs": [
    {
     "name": "stdout",
     "output_type": "stream",
     "text": [
      "the accuracy of the svm model with random forest feature selection is: 0.730339\n",
      "Precision: 0.815129\n",
      "Recall: 0.610546\n",
      "F1 Score: 0.698158\n"
     ]
    }
   ],
   "source": [
    "# accuracy\n",
    "accuracy = accuracy_score(y_test, y_pred)\n",
    "print(f\"Accuracy: {accuracy:.6f}\")\n",
    "\n",
    "# precision\n",
    "precision = precision_score(y_test, y_pred, average='binary')\n",
    "print(f\"Precision: {precision:.6f}\")\n",
    "\n",
    "# recall\n",
    "recall = recall_score(y_test, y_pred, average='binary')\n",
    "print(f\"Recall: {recall:.6f}\")\n",
    "\n",
    "# F1 score\n",
    "f1 = f1_score(y_test, y_pred, average='binary')\n",
    "print(f\"F1 Score: {f1:.6f}\")"
   ]
  }
 ],
 "metadata": {
  "kernelspec": {
   "display_name": "csen140",
   "language": "python",
   "name": "python3"
  },
  "language_info": {
   "codemirror_mode": {
    "name": "ipython",
    "version": 3
   },
   "file_extension": ".py",
   "mimetype": "text/x-python",
   "name": "python",
   "nbconvert_exporter": "python",
   "pygments_lexer": "ipython3",
   "version": "3.12.6"
  }
 },
 "nbformat": 4,
 "nbformat_minor": 2
}
