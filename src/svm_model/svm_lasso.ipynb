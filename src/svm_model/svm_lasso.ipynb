{
 "cells": [
  {
   "cell_type": "code",
   "execution_count": 4,
   "metadata": {},
   "outputs": [],
   "source": [
    "# SVM (Support Vector Machine) Model\n",
    "\n",
    "# 5 Methods:\n",
    "# Chi-Squared \n",
    "# Extra Trees \n",
    "# L1 Regularization - Lasso # \n",
    "# Random Forest  \n",
    "# Mutual Info"
   ]
  },
  {
   "cell_type": "code",
   "execution_count": 5,
   "metadata": {},
   "outputs": [],
   "source": [
    "import pandas as pd\n",
    "from sklearn.linear_model import LogisticRegression\n",
    "from sklearn.svm import SVC\n",
    "from sklearn.model_selection import train_test_split\n",
    "from sklearn.metrics import accuracy_score, classification_report\n",
    "\n",
    "celeb_data = pd.read_csv('../list_attr_celeba.csv')\n",
    "\n",
    "celeb_data.replace(1, 1.0, inplace=True)\n",
    "celeb_data.replace(-1, 0.0, inplace=True)\n",
    "celeb_data.drop(columns = ['image_id', '5_o_Clock_Shadow', 'Arched_Eyebrows', 'Bags_Under_Eyes', 'Bushy_Eyebrows', 'Bangs', 'Blurry', 'Smiling', 'Mouth_Slightly_Open', 'Wearing_Earrings', 'Wearing_Hat', 'Wearing_Lipstick', 'Wearing_Necklace', 'Wearing_Necktie'], inplace=True)\n",
    "\n",
    "celeb_data.head()\n",
    "\n",
    "column_names = celeb_data.drop(\"Attractive\", axis=1).columns\n",
    "X = celeb_data.drop(\"Attractive\", axis=1).values\n",
    "y = celeb_data[\"Attractive\"].values"
   ]
  },
  {
   "cell_type": "code",
   "execution_count": 6,
   "metadata": {},
   "outputs": [
    {
     "ename": "NameError",
     "evalue": "name 'sorted_lasso' is not defined",
     "output_type": "error",
     "traceback": [
      "\u001b[0;31m---------------------------------------------------------------------------\u001b[0m",
      "\u001b[0;31mNameError\u001b[0m                                 Traceback (most recent call last)",
      "Cell \u001b[0;32mIn[6], line 2\u001b[0m\n\u001b[1;32m      1\u001b[0m \u001b[38;5;66;03m# selecting features with non-zero lasso coefficients\u001b[39;00m\n\u001b[0;32m----> 2\u001b[0m non_zero_features \u001b[38;5;241m=\u001b[39m [feature \u001b[38;5;28;01mfor\u001b[39;00m feature, coefficient \u001b[38;5;129;01min\u001b[39;00m \u001b[43msorted_lasso\u001b[49m \u001b[38;5;28;01mif\u001b[39;00m coefficient \u001b[38;5;241m!=\u001b[39m \u001b[38;5;241m0\u001b[39m]\n\u001b[1;32m      3\u001b[0m X_selected \u001b[38;5;241m=\u001b[39m pd\u001b[38;5;241m.\u001b[39mDataFrame(X, columns\u001b[38;5;241m=\u001b[39mcolumn_names)[non_zero_features]\u001b[38;5;241m.\u001b[39mvalues\n\u001b[1;32m      5\u001b[0m \u001b[38;5;66;03m# splitting dataset using Lasso-selected features\u001b[39;00m\n",
      "\u001b[0;31mNameError\u001b[0m: name 'sorted_lasso' is not defined"
     ]
    }
   ],
   "source": [
    "# lasso feature selection (l1 regularization)\n",
    "lasso = LogisticRegression(penalty='l1', solver='liblinear', random_state=42, max_iter=1000)\n",
    "lasso.fit(X, y)\n",
    "\n",
    "# selecting features with non-zero coefficients\n",
    "non_zero_indices = lasso.coef_[0] != 0\n",
    "selected_features = column_names[non_zero_indices]\n",
    "X_new = pd.DataFrame(X, columns=column_names)[selected_features]\n",
    "\n",
    "print(\"selected features:\", selected_features)\n",
    "\n",
    "# training-testing split (70/30)\n",
    "X_train, X_test, y_train, y_test = train_test_split(X_new, y, test_size=0.3, random_state=42)\n",
    "\n",
    "# training svm model\n",
    "svm = SVC(random_state=42, kernel='linear')\n",
    "svm.fit(X_train, y_train)\n",
    "\n",
    "# predicting on test set\n",
    "y_pred = svm.predict(X_test)\n",
    "\n",
    "# classification report\n",
    "print(\"\\nclassification report:\")\n",
    "print(classification_report(y_test, y_pred))"
   ]
  },
  {
   "cell_type": "code",
   "execution_count": null,
   "metadata": {},
   "outputs": [],
   "source": [
    "# accuracy of model\n",
    "svm_accuracy = accuracy_score(y_test, y_pred)\n",
    "print(f\"the accuracy of the svm model with lasso feature selection is: {svm_accuracy:.6f}\")"
   ]
  }
 ],
 "metadata": {
  "kernelspec": {
   "display_name": "csen140",
   "language": "python",
   "name": "python3"
  },
  "language_info": {
   "codemirror_mode": {
    "name": "ipython",
    "version": 3
   },
   "file_extension": ".py",
   "mimetype": "text/x-python",
   "name": "python",
   "nbconvert_exporter": "python",
   "pygments_lexer": "ipython3",
   "version": "3.12.6"
  }
 },
 "nbformat": 4,
 "nbformat_minor": 2
}
