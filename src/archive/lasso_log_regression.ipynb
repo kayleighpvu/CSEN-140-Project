{
 "cells": [
  {
   "cell_type": "code",
   "execution_count": null,
   "metadata": {},
   "outputs": [],
   "source": [
    "import pandas as pd\n",
    "from sklearn.ensemble import RandomForestClassifier\n",
    "from sklearn.linear_model import LogisticRegression\n",
    "\n",
    "celeb_data = pd.read_csv('list_attr_celeba.csv')\n",
    "\n",
    "celeb_data.replace(1, 1.0, inplace=True)\n",
    "celeb_data.replace(-1, 0.0, inplace=True)\n",
    "celeb_data.drop(columns = ['image_id', '5_o_Clock_Shadow', 'Arched_Eyebrows', 'Bags_Under_Eyes', 'Bushy_Eyebrows', 'Bangs', 'Blurry', 'Smiling', 'Mouth_Slightly_Open', 'Wearing_Earrings', 'Wearing_Hat', 'Wearing_Lipstick', 'Wearing_Necklace', 'Wearing_Necktie'], inplace=True)\n",
    "\n",
    "celeb_data.head()\n",
    "\n",
    "column_names = celeb_data.drop(\"Attractive\", axis=1).columns\n",
    "X = celeb_data.drop(\"Attractive\", axis=1).values\n",
    "y = celeb_data[\"Attractive\"].values"
   ]
  },
  {
   "cell_type": "code",
   "execution_count": null,
   "metadata": {},
   "outputs": [],
   "source": [
    "# Lasso (Logistic Regression with L1 regularization)\n",
    "lasso = LogisticRegression(penalty='l1', solver='liblinear', random_state=42)\n",
    "lasso.fit(X, y)\n",
    "lasso_coefficients = lasso.coef_\n",
    "\n",
    "# Sort and display Lasso Coefficients\n",
    "sorted_lasso = sorted(\n",
    "    zip(column_names, lasso_coefficients.flatten()),  # Flatten coefficients to 1D if needed\n",
    "    key=lambda x: abs(x[1]),  # Sort by absolute value\n",
    "    reverse=True\n",
    ")\n",
    "\n",
    "print(\"\\nLasso Coefficients (sorted by absolute value):\")\n",
    "for feature, coefficient in sorted_lasso:\n",
    "    print(f\"{feature}: coefficient={coefficient:.4f}\")"
   ]
  }
 ],
 "metadata": {
  "language_info": {
   "name": "python"
  }
 },
 "nbformat": 4,
 "nbformat_minor": 2
}
