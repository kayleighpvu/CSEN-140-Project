{
 "cells": [
  {
   "cell_type": "code",
   "execution_count": 1,
   "metadata": {},
   "outputs": [
    {
     "ename": "NameError",
     "evalue": "name 'chi2_scores' is not defined",
     "output_type": "error",
     "traceback": [
      "\u001b[0;31m---------------------------------------------------------------------------\u001b[0m",
      "\u001b[0;31mNameError\u001b[0m                                 Traceback (most recent call last)",
      "Cell \u001b[0;32mIn[1], line 22\u001b[0m\n\u001b[1;32m     18\u001b[0m \u001b[38;5;28;01mfrom\u001b[39;00m \u001b[38;5;21;01msklearn\u001b[39;00m\u001b[38;5;21;01m.\u001b[39;00m\u001b[38;5;21;01mfeature_selection\u001b[39;00m \u001b[38;5;28;01mimport\u001b[39;00m SelectKBest\n\u001b[1;32m     20\u001b[0m \u001b[38;5;66;03m# Sorting and printing Chi-Square scores based on score\u001b[39;00m\n\u001b[1;32m     21\u001b[0m chi2_results \u001b[38;5;241m=\u001b[39m \u001b[38;5;28msorted\u001b[39m(\n\u001b[0;32m---> 22\u001b[0m     \u001b[38;5;28mzip\u001b[39m(column_names, \u001b[43mchi2_scores\u001b[49m\u001b[38;5;241m.\u001b[39mscores_, chi2_scores\u001b[38;5;241m.\u001b[39mpvalues_),\n\u001b[1;32m     23\u001b[0m     key\u001b[38;5;241m=\u001b[39m\u001b[38;5;28;01mlambda\u001b[39;00m x: x[\u001b[38;5;241m1\u001b[39m],  \u001b[38;5;66;03m# Sort by score (x[1])\u001b[39;00m\n\u001b[1;32m     24\u001b[0m     reverse\u001b[38;5;241m=\u001b[39m\u001b[38;5;28;01mTrue\u001b[39;00m         \u001b[38;5;66;03m# Sort in descending order\u001b[39;00m\n\u001b[1;32m     25\u001b[0m )\n\u001b[1;32m     27\u001b[0m \u001b[38;5;28mprint\u001b[39m(\u001b[38;5;124m\"\u001b[39m\u001b[38;5;124mChi-Square Scores (sorted by score):\u001b[39m\u001b[38;5;124m\"\u001b[39m)\n\u001b[1;32m     28\u001b[0m \u001b[38;5;28;01mfor\u001b[39;00m feature, score, pvalue \u001b[38;5;129;01min\u001b[39;00m chi2_results:\n",
      "\u001b[0;31mNameError\u001b[0m: name 'chi2_scores' is not defined"
     ]
    }
   ],
   "source": [
    "import pandas as pd\n",
    "from sklearn.feature_selection import chi2, mutual_info_classif\n",
    "from sklearn.feature_selection import SelectKBest\n",
    "\n",
    "celeb_data = pd.read_csv('list_attr_celeba.csv')\n",
    "\n",
    "celeb_data.replace(1, 1.0, inplace=True)\n",
    "celeb_data.replace(-1, 0.0, inplace=True)\n",
    "celeb_data.drop(columns = ['image_id', '5_o_Clock_Shadow', 'Arched_Eyebrows', 'Bags_Under_Eyes', 'Bushy_Eyebrows', 'Bangs', 'Blurry', 'Smiling', 'Mouth_Slightly_Open', 'Wearing_Earrings', 'Wearing_Hat', 'Wearing_Lipstick', 'Wearing_Necklace', 'Wearing_Necktie'], inplace=True)\n",
    "\n",
    "celeb_data.head()\n",
    "\n",
    "column_names = celeb_data.drop(\"Attractive\", axis=1).columns\n",
    "X = celeb_data.drop(\"Attractive\", axis=1).values\n",
    "y = celeb_data[\"Attractive\"].values\n",
    "\n",
    "from sklearn.feature_selection import chi2, mutual_info_classif\n",
    "from sklearn.feature_selection import SelectKBest\n",
    "\n",
    "# Sorting and printing Chi-Square scores based on score\n",
    "chi2_results = sorted(\n",
    "    zip(column_names, chi2_scores.scores_, chi2_scores.pvalues_),\n",
    "    key=lambda x: x[1],  # Sort by score (x[1])\n",
    "    reverse=True         # Sort in descending order\n",
    ")\n",
    "\n",
    "print(\"Chi-Square Scores (sorted by score):\")\n",
    "for feature, score, pvalue in chi2_results:\n",
    "    print(f\"{feature}: score={score:.2f}, p-value={pvalue:.4f}\")\n",
    "\n",
    "# Sorting and printing Mutual Information scores based on scores\n",
    "mi_results = sorted(\n",
    "    zip(column_names, mi_scores.scores_),\n",
    "    key=lambda x: x[1],  # Sort by score\n",
    "    reverse=True  # Higher scores first\n",
    ")\n",
    "\n",
    "print(\"\\nMutual Information Scores (sorted by score):\")\n",
    "for feature, score in mi_results:\n",
    "    print(f\"{feature}: score={score:.2f}\")\n",
    "\n",
    "from sklearn.ensemble import RandomForestClassifier\n",
    "from sklearn.linear_model import LogisticRegression\n",
    "\n",
    "# Random Forest\n",
    "rf = RandomForestClassifier(random_state=42)\n",
    "rf.fit(X, y)\n",
    "feature_importances = rf.feature_importances_\n",
    "\n",
    "# Lasso (Logistic Regression with L1 regularization)\n",
    "lasso = LogisticRegression(penalty='l1', solver='liblinear', random_state=42)\n",
    "lasso.fit(X, y)\n",
    "lasso_coefficients = lasso.coef_\n",
    "\n",
    "# Sort and display Random Forest Feature Importances\n",
    "sorted_rf = sorted(zip(column_names, feature_importances), key=lambda x: x[1], reverse=True)\n",
    "print(\"Random Forest Feature Importances (sorted):\")\n",
    "for feature, importance in sorted_rf:\n",
    "    print(f\"{feature}: importance={importance:.4f}\")\n",
    "\n",
    "# Sort and display Lasso Coefficients\n",
    "sorted_lasso = sorted(\n",
    "    zip(column_names, lasso_coefficients.flatten()),  # Flatten coefficients to 1D if needed\n",
    "    key=lambda x: abs(x[1]),  # Sort by absolute value\n",
    "    reverse=True\n",
    ")\n",
    "\n",
    "print(\"\\nLasso Coefficients (sorted by absolute value):\")\n",
    "for feature, coefficient in sorted_lasso:\n",
    "    print(f\"{feature}: coefficient={coefficient:.4f}\")"
   ]
  }
 ],
 "metadata": {
  "kernelspec": {
   "display_name": "csen140",
   "language": "python",
   "name": "python3"
  },
  "language_info": {
   "codemirror_mode": {
    "name": "ipython",
    "version": 3
   },
   "file_extension": ".py",
   "mimetype": "text/x-python",
   "name": "python",
   "nbconvert_exporter": "python",
   "pygments_lexer": "ipython3",
   "version": "3.12.6"
  }
 },
 "nbformat": 4,
 "nbformat_minor": 2
}
